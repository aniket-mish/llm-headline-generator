{
  "nbformat": 4,
  "nbformat_minor": 0,
  "metadata": {
    "colab": {
      "provenance": []
    },
    "kernelspec": {
      "name": "python3",
      "display_name": "Python 3"
    },
    "language_info": {
      "name": "python"
    }
  },
  "cells": [
    {
      "cell_type": "code",
      "source": [
        "from google.colab import userdata\n",
        "key=userdata.get('COHERE_API_KEY')"
      ],
      "metadata": {
        "id": "QJCez-FmCL0m"
      },
      "execution_count": 114,
      "outputs": []
    },
    {
      "cell_type": "code",
      "execution_count": 129,
      "metadata": {
        "colab": {
          "base_uri": "https://localhost:8080/"
        },
        "id": "fViDHtohB5xK",
        "outputId": "1339b290-47d4-434c-a37d-09ecee5b154e"
      },
      "outputs": [
        {
          "output_type": "stream",
          "name": "stdout",
          "text": [
            "\u001b[2K     \u001b[90m━━━━━━━━━━━━━━━━━━━━━━━━━━━━━━━━━━━━━━━━\u001b[0m \u001b[32m50.4/50.4 kB\u001b[0m \u001b[31m1.7 MB/s\u001b[0m eta \u001b[36m0:00:00\u001b[0m\n",
            "\u001b[2K   \u001b[90m━━━━━━━━━━━━━━━━━━━━━━━━━━━━━━━━━━━━━━━━\u001b[0m \u001b[32m43.1/43.1 kB\u001b[0m \u001b[31m2.4 MB/s\u001b[0m eta \u001b[36m0:00:00\u001b[0m\n",
            "\u001b[2K   \u001b[90m━━━━━━━━━━━━━━━━━━━━━━━━━━━━━━━━━━━━━━━━\u001b[0m \u001b[32m377.6/377.6 kB\u001b[0m \u001b[31m3.9 MB/s\u001b[0m eta \u001b[36m0:00:00\u001b[0m\n",
            "\u001b[2K   \u001b[90m━━━━━━━━━━━━━━━━━━━━━━━━━━━━━━━━━━━━━━━━\u001b[0m \u001b[32m203.2/203.2 kB\u001b[0m \u001b[31m11.5 MB/s\u001b[0m eta \u001b[36m0:00:00\u001b[0m\n",
            "\u001b[2K   \u001b[90m━━━━━━━━━━━━━━━━━━━━━━━━━━━━━━━━━━━━━━━━\u001b[0m \u001b[32m2.3/2.3 MB\u001b[0m \u001b[31m20.2 MB/s\u001b[0m eta \u001b[36m0:00:00\u001b[0m\n",
            "\u001b[2K   \u001b[90m━━━━━━━━━━━━━━━━━━━━━━━━━━━━━━━━━━━━━━━━\u001b[0m \u001b[32m139.9/139.9 kB\u001b[0m \u001b[31m8.6 MB/s\u001b[0m eta \u001b[36m0:00:00\u001b[0m\n",
            "\u001b[2K   \u001b[90m━━━━━━━━━━━━━━━━━━━━━━━━━━━━━━━━━━━━━━━━\u001b[0m \u001b[32m990.3/990.3 kB\u001b[0m \u001b[31m27.9 MB/s\u001b[0m eta \u001b[36m0:00:00\u001b[0m\n",
            "\u001b[2K   \u001b[90m━━━━━━━━━━━━━━━━━━━━━━━━━━━━━━━━━━━━━━━━\u001b[0m \u001b[32m141.1/141.1 kB\u001b[0m \u001b[31m9.1 MB/s\u001b[0m eta \u001b[36m0:00:00\u001b[0m\n",
            "\u001b[2K   \u001b[90m━━━━━━━━━━━━━━━━━━━━━━━━━━━━━━━━━━━━━━━━\u001b[0m \u001b[32m49.2/49.2 kB\u001b[0m \u001b[31m3.2 MB/s\u001b[0m eta \u001b[36m0:00:00\u001b[0m\n",
            "\u001b[?25h"
          ]
        }
      ],
      "source": [
        "!pip install lancedb sentence-transformers polars tantivy cohere langchain_cohere -q"
      ]
    },
    {
      "cell_type": "code",
      "source": [
        "import os\n",
        "import lancedb\n",
        "from lancedb.pydantic import LanceModel, Vector\n",
        "from lancedb.embeddings import get_registry\n",
        "import polars as pl\n",
        "import pandas as pd\n",
        "\n",
        "db = lancedb.connect(\"/tmp/db\")\n",
        "model = get_registry().get(\"sentence-transformers\").create(name=\"BAAI/bge-small-en-v1.5\", device=\"cpu\")"
      ],
      "metadata": {
        "id": "O8CMWH28FF6x"
      },
      "execution_count": 96,
      "outputs": []
    },
    {
      "cell_type": "code",
      "source": [
        "if os.path.exists(\"/tmp/db\"):\n",
        "    !rm -rf /tmp/db"
      ],
      "metadata": {
        "id": "MprQzq_MALCp"
      },
      "execution_count": 104,
      "outputs": []
    },
    {
      "cell_type": "code",
      "source": [
        "class Documents(LanceModel):\n",
        "    text: str = model.SourceField()\n",
        "    vector: Vector(model.ndims()) = model.VectorField()\n",
        "\n",
        "table = db.create_table(\"pl_table\", schema=Documents)"
      ],
      "metadata": {
        "id": "LolrFq-NFpHF"
      },
      "execution_count": 105,
      "outputs": []
    },
    {
      "cell_type": "code",
      "source": [
        "df = pd.read_csv(\"data.csv\")\n",
        "print(df)"
      ],
      "metadata": {
        "colab": {
          "base_uri": "https://localhost:8080/"
        },
        "id": "O-wPhqImHYZ_",
        "outputId": "125e68d0-7457-430f-f0ea-3eb58e885161"
      },
      "execution_count": 145,
      "outputs": [
        {
          "output_type": "stream",
          "name": "stdout",
          "text": [
            "     name                                        description industry  \\\n",
            "0  GitLab  GitLab is the first single application for the...      B2B   \n",
            "\n",
            "                          category                 url           headline  \\\n",
            "0  Engineering, Product and Design  http://gitlab.com/  Software. Faster.   \n",
            "\n",
            "                                             subhead             cta  founded  \\\n",
            "0  GitLab is the most comprehensive AI-powered De...  Get free trial     2012   \n",
            "\n",
            "        location                                               tags  \n",
            "0  San Francisco  W15, PUBLIC, DEVELOPER-TOOLS, DEVSECOPS, OPEN-...  \n"
          ]
        }
      ]
    },
    {
      "cell_type": "code",
      "source": [
        "df[\"text\"] = df[df.columns.to_list()].astype(str).agg(\" \".join, axis=1)\n",
        "\n",
        "docs = [{\"text\": x} for x in df[\"text\"]]\n",
        "docs"
      ],
      "metadata": {
        "colab": {
          "base_uri": "https://localhost:8080/"
        },
        "id": "cpUEBG2aDlxy",
        "outputId": "14d686d3-c927-40fe-8673-328668b14bea"
      },
      "execution_count": 146,
      "outputs": [
        {
          "output_type": "execute_result",
          "data": {
            "text/plain": [
              "[{'text': 'GitLab GitLab is the first single application for the entire DevOps lifecycle. Only GitLab enables Concurrent DevOps, unlocking organizations from the constraints of today’s toolchain. GitLab provides unmatched visibility, radical new levels of efficiency and comprehensive governance to significantly compress the time between planning a change and monitoring its effect. This makes the software lifecycle 200% faster, radically improving the speed of business. GitLab and Concurrent DevOps collapses cycle times by driving higher efficiency across all stages of the software development lifecycle. For the first time, Product, Development, QA, Security, and Operations teams can work concurrently in a single application. There’s no need to integrate and synchronize tools, or waste time waiting for handoffs. Everyone contributes to a single conversation, instead of managing multiple threads across disparate tools. And only GitLab gives teams complete visibility across the lifecycle with a single, trusted source of data to simplify troubleshooting and drive accountability. All activity is governed by consistent controls, making security and compliance first-class citizens instead of an afterthought. Built on Open Source, GitLab leverages the community contributions of thousands of developers and millions of users to continuously deliver new DevOps innovations. More than 100,000 organizations from startups to global enterprise organizations, including Ticketmaster, Jaguar Land Rover, NASDAQ, Dish Network and Comcast trust GitLab to deliver great software at new speeds. B2B Engineering, Product and Design http://gitlab.com/ Software. Faster. GitLab is the most comprehensive AI-powered DevSecOps Platform. Get free trial 2012 San Francisco W15, PUBLIC, DEVELOPER-TOOLS, DEVSECOPS, OPEN-SOURCE, SAN FRANCISCO'}]"
            ]
          },
          "metadata": {},
          "execution_count": 146
        }
      ]
    },
    {
      "cell_type": "code",
      "source": [
        "table.add(docs)"
      ],
      "metadata": {
        "id": "SdRwdkdJyKKX"
      },
      "execution_count": 108,
      "outputs": []
    },
    {
      "cell_type": "code",
      "source": [
        "table.create_fts_index(\"text\")"
      ],
      "metadata": {
        "id": "A_3qjX5G1nY0"
      },
      "execution_count": 109,
      "outputs": []
    },
    {
      "cell_type": "code",
      "source": [
        "from lancedb.rerankers import CohereReranker\n",
        "\n",
        "reranker = CohereReranker(api_key=key)"
      ],
      "metadata": {
        "id": "pGVIL5GK_2j5"
      },
      "execution_count": 115,
      "outputs": []
    },
    {
      "cell_type": "code",
      "source": [
        "query = \"How many repositories does github have?\""
      ],
      "metadata": {
        "id": "rgpxDuJHCSD5"
      },
      "execution_count": 147,
      "outputs": []
    },
    {
      "cell_type": "code",
      "source": [
        "result = table.search(query, query_type=\"hybrid\").limit(5).rerank(reranker=reranker).to_list()"
      ],
      "metadata": {
        "id": "Vcf11VjoCbAJ"
      },
      "execution_count": 136,
      "outputs": []
    },
    {
      "cell_type": "code",
      "source": [
        "context = result[0][\"text\"]\n",
        "context"
      ],
      "metadata": {
        "colab": {
          "base_uri": "https://localhost:8080/",
          "height": 137
        },
        "id": "vHsfjikHCuad",
        "outputId": "320fa6ed-542e-4234-9585-ba61ab198670"
      },
      "execution_count": 137,
      "outputs": [
        {
          "output_type": "execute_result",
          "data": {
            "text/plain": [
              "'GitLab GitLab is the first single application for the entire DevOps lifecycle. Only GitLab enables Concurrent DevOps, unlocking organizations from the constraints of today’s toolchain. GitLab provides unmatched visibility, radical new levels of efficiency and comprehensive governance to significantly compress the time between planning a change and monitoring its effect. This makes the software lifecycle 200% faster, radically improving the speed of business. GitLab and Concurrent DevOps collapses cycle times by driving higher efficiency across all stages of the software development lifecycle. For the first time, Product, Development, QA, Security, and Operations teams can work concurrently in a single application. There’s no need to integrate and synchronize tools, or waste time waiting for handoffs. Everyone contributes to a single conversation, instead of managing multiple threads across disparate tools. And only GitLab gives teams complete visibility across the lifecycle with a single, trusted source of data to simplify troubleshooting and drive accountability. All activity is governed by consistent controls, making security and compliance first-class citizens instead of an afterthought. Built on Open Source, GitLab leverages the community contributions of thousands of developers and millions of users to continuously deliver new DevOps innovations. More than 100,000 organizations from startups to global enterprise organizations, including Ticketmaster, Jaguar Land Rover, NASDAQ, Dish Network and Comcast trust GitLab to deliver great software at new speeds. B2B Engineering, Product and Design http://gitlab.com/ Software. Faster. GitLab is the most comprehensive AI-powered DevSecOps Platform. Get free trial 2012 San Francisco W15, PUBLIC, DEVELOPER-TOOLS, DEVSECOPS, OPEN-SOURCE, SAN FRANCISCO'"
            ],
            "application/vnd.google.colaboratory.intrinsic+json": {
              "type": "string"
            }
          },
          "metadata": {},
          "execution_count": 137
        }
      ]
    },
    {
      "cell_type": "code",
      "source": [
        "from langchain_cohere import ChatCohere\n",
        "\n",
        "prompt = f\"\"\"\n",
        "Context is given below:\n",
        "{context}\n",
        "\n",
        "Answer the question using the context: {query}\n",
        "\"\"\"\n",
        "\n",
        "cohere_chat_model = ChatCohere(cohere_api_key=key)\n",
        "response = cohere_chat_model.invoke(prompt)\n",
        "print(f\"Response: \\n {response.content}\")"
      ],
      "metadata": {
        "colab": {
          "base_uri": "https://localhost:8080/"
        },
        "id": "eA_blFdmJ3uc",
        "outputId": "f48f6bbd-2acd-4e44-da13-2e3673ae532c"
      },
      "execution_count": 148,
      "outputs": [
        {
          "output_type": "stream",
          "name": "stdout",
          "text": [
            "Response: \n",
            " I apologize, but I cannot answer your question based on the provided context. The context provided is about GitLab, which is a single application for the entire DevOps lifecycle. It does not mention anything about GitHub or the number of repositories it has.\n"
          ]
        }
      ]
    },
    {
      "cell_type": "markdown",
      "source": [
        "LOL!"
      ],
      "metadata": {
        "id": "M2zGDSAyW7la"
      }
    },
    {
      "cell_type": "code",
      "source": [],
      "metadata": {
        "id": "UGx7hhcDWu_c"
      },
      "execution_count": null,
      "outputs": []
    }
  ]
}